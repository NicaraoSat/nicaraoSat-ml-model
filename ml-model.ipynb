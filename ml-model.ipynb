{
 "cells": [
  {
   "cell_type": "code",
   "execution_count": null,
   "id": "8cba423e-448b-4883-b19d-73ef51f826e3",
   "metadata": {},
   "outputs": [],
   "source": [
    "ruta_archivos = r\"C:\\Users\\Home\\Desktop\\Proyecto Hackathon Copernicus\"\n",
    "os.chdir(ruta_archivos)\n",
    "os.getcwd()"
   ]
  },
  {
   "cell_type": "code",
   "execution_count": null,
   "id": "2bba158e-1324-4124-8b2a-6ee9f0ff872a",
   "metadata": {},
   "outputs": [],
   "source": [
    "lista = glob.glob(\"ImagenRaster.tif\")\n",
    "lista"
   ]
  },
  {
   "cell_type": "code",
   "execution_count": null,
   "id": "b7b9d8a0-3eee-4335-87fc-536ad4aab64e",
   "metadata": {},
   "outputs": [],
   "source": [
    "import rasterio\n",
    "import numpy as np"
   ]
  },
  {
   "cell_type": "code",
   "execution_count": null,
   "id": "78c2b160-7ffc-4dfd-9185-abe2559541da",
   "metadata": {},
   "outputs": [],
   "source": [
    "SENTINEL2_RS = rasterio.open(lista[0])"
   ]
  },
  {
   "cell_type": "code",
   "execution_count": null,
   "id": "a463c219-21c0-4da9-ab1c-9efb0bcee684",
   "metadata": {},
   "outputs": [],
   "source": [
    "import geopandas as gpd"
   ]
  },
  {
   "cell_type": "code",
   "execution_count": null,
   "id": "ce5656bd-046f-4167-8df5-c1c7c3828de5",
   "metadata": {},
   "outputs": [],
   "source": [
    "ROI = gpd.read_file(r'C:\\Users\\Home\\Desktop\\Proyecto Hackathon Copernicus\\ROI.shp')"
   ]
  },
  {
   "cell_type": "code",
   "execution_count": null,
   "id": "a354c66d-2196-421b-8fed-d47d4e85e233",
   "metadata": {},
   "outputs": [],
   "source": [
    "# Proyección de datos\n",
    "print(\"Proyección ROI:\",roi.crs)\n",
    "print(\"Proyección imagen:\",S2_RS.crs)\n",
    "print(\"Numero de bandas imagen:\",S2_RS.count)"
   ]
  },
  {
   "cell_type": "code",
   "execution_count": null,
   "id": "3e22268a-1cef-440e-9020-54d976b5cd99",
   "metadata": {},
   "outputs": [],
   "source": [
    "Proyección ROI: epsg:32719\n",
    "Proyección imagen: EPSG:32719\n",
    "Numero de bandas imagen: 11"
   ]
  },
  {
   "cell_type": "code",
   "execution_count": null,
   "id": "41a35932-6d62-4a8e-85c8-f76a6ccefb4b",
   "metadata": {},
   "outputs": [],
   "source": [
    "# lista coberturas para el analisis\n",
    "lista_cobertura = []\n",
    "for point in roi['Class']:\n",
    "    lista_cobertura.append(point[0:50])"
   ]
  },
  {
   "cell_type": "code",
   "execution_count": null,
   "id": "0f7c29c4-3d60-49c4-9990-f437d95d1cef",
   "metadata": {},
   "outputs": [],
   "source": [
    "# Creacion de lista de coordenada Norte y Este\n",
    "lista_este = []\n",
    "lista_norte = []\n",
    "for point in roi['geometry']:\n",
    "    lista_este.append(round(point.xy[0][0],1))\n",
    "    lista_norte.append(round(point.xy[1][0],1))"
   ]
  },
  {
   "cell_type": "code",
   "execution_count": null,
   "id": "7e989012-31b7-49ba-b976-7674629d0559",
   "metadata": {},
   "outputs": [],
   "source": [
    "lista_banda1 = []\n",
    "lista_banda2 = []\n",
    "lista_banda3 = []\n",
    "lista_banda4 = []\n",
    "lista_banda5 = []\n",
    "lista_banda6 = []\n",
    "lista_banda7 = []\n",
    "lista_banda8 = []\n",
    "lista_banda9 = []\n",
    "lista_banda11 = []\n",
    "lista_banda12 = []\n",
    "for point in roi['geometry']:\n",
    "    x = point.xy[0][0]\n",
    "    y = point.xy[1][0]\n",
    "    row, col = S2_RS.index(x,y)\n",
    "    lista_banda1.append(SENTINEL2_RS.read(1)[row, col])\n",
    "    lista_banda2.append(SENTINEL2_RS.read(2)[row, col])\n",
    "    lista_banda3.append(SENTINEL2_RS.read(3)[row, col])\n",
    "    lista_banda4.append(SENTINEL2_RS.read(4)[row, col])\n",
    "    lista_banda5.append(SENTINEL2_RS.read(5)[row, col])\n",
    "    lista_banda6.append(SENTINEL2_RS.read(6)[row, col])\n",
    "    lista_banda7.append(SENTINEL2_RS.read(7)[row, col])\n",
    "    lista_banda8.append(SENTINEL2_RS.read(8)[row, col])\n",
    "    lista_banda9.append(SENTINEL2_RS.read(9)[row, col])\n",
    "    lista_banda11.append(SENTINEL2_RS.read(10)[row, col])\n",
    "    lista_banda12.append(SENTINEL2_RS.read(11)[row, col])"
   ]
  },
  {
   "cell_type": "code",
   "execution_count": null,
   "id": "02460e48-fd26-4ba8-ade4-79fd3b3e5e6c",
   "metadata": {},
   "outputs": [],
   "source": [
    "# Creacion de diccionario de datos\n",
    "datos = {\"Cobertura\": lista_cobertura, \n",
    "         \"Este\": lista_este,\n",
    "         \"Norte\": lista_norte,\n",
    "         \"B1\": lista_banda1,\n",
    "         \"B2\": lista_banda2,\n",
    "         \"B3\": lista_banda3,\n",
    "         \"B4\": lista_banda4,\n",
    "         \"B5\": lista_banda5,\n",
    "         \"B6\": lista_banda6,\n",
    "         \"B7\": lista_banda7,\n",
    "         \"B8\": lista_banda8,\n",
    "         \"B9\": lista_banda9,\n",
    "         \"B11\": lista_banda11,\n",
    "         \"B12\": lista_banda12}"
   ]
  },
  {
   "cell_type": "code",
   "execution_count": null,
   "id": "85fedafd-ae41-4a1f-becd-bf207c436a5e",
   "metadata": {},
   "outputs": [],
   "source": [
    "import pandas as pd"
   ]
  },
  {
   "cell_type": "code",
   "execution_count": null,
   "id": "3e24a396-0b69-4f4a-bd88-ed9e5772d2ff",
   "metadata": {},
   "outputs": [],
   "source": [
    "# Creacion de DataFrame mediante el diccionario anterior\n",
    "dataframe = pd.DataFrame(datos)\n",
    "dataframe.head()"
   ]
  },
  {
   "cell_type": "code",
   "execution_count": null,
   "id": "03db1123-f8a4-4631-a90d-5158fc9e08be",
   "metadata": {},
   "outputs": [],
   "source": [
    "#SEPARACION DE VARIABLES PARA LA PREDICCION DEL MODELO"
   ]
  },
  {
   "cell_type": "code",
   "execution_count": null,
   "id": "f11ba57f-32db-41cd-b95e-94a1a8d38a94",
   "metadata": {},
   "outputs": [],
   "source": [
    "X = dataframe.iloc[:,3:14]\n",
    "print(X.head())"
   ]
  },
  {
   "cell_type": "code",
   "execution_count": null,
   "id": "2ff15cf2-ea1c-4c10-98ab-3996f1080013",
   "metadata": {},
   "outputs": [],
   "source": [
    "y = dataframe.iloc[:,0]\n",
    "print(y.head())"
   ]
  },
  {
   "cell_type": "code",
   "execution_count": null,
   "id": "a861f148-5caa-47d7-b5d6-2d75ed8fcef9",
   "metadata": {},
   "outputs": [],
   "source": [
    "# SEPARACION DE LOS DATOS DE ENTRENAMIENTO Y VALIDACION "
   ]
  },
  {
   "cell_type": "code",
   "execution_count": null,
   "id": "6dbb3fee-0798-472c-a251-4674fc8d0dc1",
   "metadata": {},
   "outputs": [],
   "source": [
    "from sklearn.model_selection import train_test_split # Entrenamiento y validacion \n",
    "from sklearn.metrics import confusion_matrix "
   ]
  },
  {
   "cell_type": "code",
   "execution_count": null,
   "id": "86512748-37a0-48de-85b6-37e61b1ca3b3",
   "metadata": {},
   "outputs": [],
   "source": [
    "Xtrain, Xtest, ytrain, ytest = train_test_split(X, y, train_size=0.8, test_size=0.2, random_state = 0)"
   ]
  },
  {
   "cell_type": "code",
   "execution_count": null,
   "id": "1f52e9a5-5b08-4981-a844-2189956bd63b",
   "metadata": {},
   "outputs": [],
   "source": [
    "Xtrain.head(), Xtest.head()"
   ]
  },
  {
   "cell_type": "code",
   "execution_count": null,
   "id": "c0b2098e-a88a-4b13-95a7-c03c5be27760",
   "metadata": {},
   "outputs": [],
   "source": [
    "#MODELO RANDOM FOREST"
   ]
  },
  {
   "cell_type": "code",
   "execution_count": null,
   "id": "6c7a412d-2210-4ee7-ad9a-b766373b06ca",
   "metadata": {},
   "outputs": [],
   "source": [
    "from sklearn.ensemble import RandomForestClassifier as RF"
   ]
  },
  {
   "cell_type": "code",
   "execution_count": null,
   "id": "e48ceb8c-1fad-4111-8b07-051621e8abc2",
   "metadata": {},
   "outputs": [],
   "source": [
    "instancia_rf = RF()\n",
    "print(instancia_rf)"
   ]
  },
  {
   "cell_type": "code",
   "execution_count": null,
   "id": "68f9a527-1ccd-47d7-ac80-5a0a47abe5e8",
   "metadata": {},
   "outputs": [],
   "source": [
    "instancia_rf.fit(Xtrain, ytrain)"
   ]
  },
  {
   "cell_type": "code",
   "execution_count": null,
   "id": "b1124cb7-e300-4c66-b3e2-42ef86aede01",
   "metadata": {},
   "outputs": [],
   "source": [
    "print(\"las predicciones en xtest son:{}\".format(instancia_rf.predict(Xtest)))"
   ]
  },
  {
   "cell_type": "code",
   "execution_count": null,
   "id": "f707a030-e9e8-4609-b7a7-da837b30b50d",
   "metadata": {},
   "outputs": [],
   "source": [
    "print(\" precision en testing: {:.3f}\".format(instancia_rf.score(Xtest, ytest)))"
   ]
  },
  {
   "cell_type": "code",
   "execution_count": null,
   "id": "adfbcaca-70ad-4079-a543-4a87174ca2eb",
   "metadata": {},
   "outputs": [],
   "source": [
    "prediccion = instancia_rf.predict(Xtest)\n",
    "MC = confusion_matrix(ytest, prediccion)\n",
    "print('Matriz de confusión:\\n{}'.format(MC))"
   ]
  },
  {
   "cell_type": "code",
   "execution_count": null,
   "id": "bd2d5ccd-8652-4dce-97cf-a4c23ec61ac4",
   "metadata": {},
   "outputs": [],
   "source": [
    "#APLICANDO EL MODELO A TODA LA IMAGEN TENEMOS"
   ]
  },
  {
   "cell_type": "code",
   "execution_count": null,
   "id": "88aae430-e5bc-423d-9523-5975249210a6",
   "metadata": {},
   "outputs": [],
   "source": [
    "mat = np.dstack((S2_RS.read(1),S2_RS.read(2),S2_RS.read(3),S2_RS.read(4),S2_RS.read(5),S2_RS.read(6),\n",
    "                 S2_RS.read(7),S2_RS.read(8),S2_RS.read(9),S2_RS.read(10),S2_RS.read(11)))\n",
    "mat.shape"
   ]
  },
  {
   "cell_type": "code",
   "execution_count": null,
   "id": "098482ac-f214-4bc7-8ee2-2d71df48d424",
   "metadata": {},
   "outputs": [],
   "source": [
    "rows, cols, nbands = mat.shape\n",
    "rows, cols, nbands"
   ]
  },
  {
   "cell_type": "code",
   "execution_count": null,
   "id": "03702b1e-a47b-4321-8f81-762bcc34229e",
   "metadata": {},
   "outputs": [],
   "source": [
    "mat = mat.reshape((rows*cols, nbands)) #mat = mat.reshape((-11, 11))\n",
    "mat.shape"
   ]
  },
  {
   "cell_type": "code",
   "execution_count": null,
   "id": "cc18666b-7ede-43d6-9860-828f1edf4cb9",
   "metadata": {},
   "outputs": [],
   "source": [
    "resultados = instancia_rf.predict(mat)\n",
    "rf = resultados.reshape((rows, cols))\n",
    "rf"
   ]
  },
  {
   "cell_type": "code",
   "execution_count": null,
   "id": "dd83a0b0-69a2-4c4a-9f73-3caf1ae1506e",
   "metadata": {},
   "outputs": [],
   "source": [
    "#Cambiar de STR a INT segun los nombres de las clasificaciones \n",
    "rf[rf == 'Clasificacion 1'] = 1\n",
    "rf[rf == 'Clasificacion 2'] = 2\n",
    "rf[rf == 'Clasificacion 3'] = 3\n",
    "rf[rf == 'Clasificacion 4'] = 4\n",
    "rf"
   ]
  },
  {
   "cell_type": "code",
   "execution_count": null,
   "id": "17bc4d9b-c448-4fc5-a833-4bd20d97a1c0",
   "metadata": {},
   "outputs": [],
   "source": [
    "# Covertir a tipo INT\n",
    "rf = rf.astype(int)\n",
    "rf"
   ]
  },
  {
   "cell_type": "code",
   "execution_count": null,
   "id": "f9dd9364-f4dc-4f5e-9f25-9793796ef7b9",
   "metadata": {},
   "outputs": [],
   "source": [
    "#VISUALIZACION DE DATOS "
   ]
  },
  {
   "cell_type": "code",
   "execution_count": null,
   "id": "9ef9f86c-6b3a-4fe1-892b-93f4a566b069",
   "metadata": {},
   "outputs": [],
   "source": [
    "import matplotlib.pyplot as plt"
   ]
  },
  {
   "cell_type": "code",
   "execution_count": null,
   "id": "60651e4b-0a19-41bd-b6ef-485d92302c77",
   "metadata": {},
   "outputs": [],
   "source": [
    "plt.figure(figsize=(8,7))\n",
    "plt.imshow(rf, cmap=\"RdYlGn_r\") # jet, Spectral, viridis, RdYlGn, hsv\n",
    "plt.colorbar()\n",
    "plt.title(\"Sentinel-2 Clasificación supervisada: Random Forest\") # titulo\n",
    "plt.xlabel(\"Numero de Columna\") # etiqueta X\n",
    "plt.ylabel(\"Numero de Fila\") # etiqueta Y\n",
    "plt.show()"
   ]
  },
  {
   "cell_type": "code",
   "execution_count": null,
   "id": "79ee3acf-e34e-4504-99c1-61bf775e18d6",
   "metadata": {},
   "outputs": [],
   "source": []
  }
 ],
 "metadata": {
  "kernelspec": {
   "display_name": "Python 3 (ipykernel)",
   "language": "python",
   "name": "python3"
  },
  "language_info": {
   "codemirror_mode": {
    "name": "ipython",
    "version": 3
   },
   "file_extension": ".py",
   "mimetype": "text/x-python",
   "name": "python",
   "nbconvert_exporter": "python",
   "pygments_lexer": "ipython3",
   "version": "3.12.4"
  }
 },
 "nbformat": 4,
 "nbformat_minor": 5
}
